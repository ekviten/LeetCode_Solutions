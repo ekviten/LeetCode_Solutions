{
 "cells": [
  {
   "cell_type": "markdown",
   "id": "b951c087-feb2-4983-bdd8-0f00781adf8c",
   "metadata": {},
   "source": [
    "## 28. Find the Index of the First Occurrence in a String"
   ]
  },
  {
   "cell_type": "markdown",
   "id": "308f0457-c738-42a3-980d-621456f9bb80",
   "metadata": {},
   "source": [
    "# Objective"
   ]
  },
  {
   "cell_type": "markdown",
   "id": "7e54c0ae-95df-4f25-aa04-84e803164a64",
   "metadata": {},
   "source": [
    "Given two strings needle and haystack, return the index of the first occurrence of needle in haystack, or -1 if needle is not part of haystack.\n",
    "\n",
    " \n",
    "\n",
    "Example 1:\n",
    "\n",
    "Input: haystack = \"sadbutsad\", needle = \"sad\"\n",
    "Output: 0\n",
    "Explanation: \"sad\" occurs at index 0 and 6.\n",
    "The first occurrence is at index 0, so we return 0.\n",
    "\n",
    "Example 2:\n",
    "\n",
    "Input: haystack = \"leetcode\", needle = \"leeto\"\n",
    "Output: -1\n",
    "Explanation: \"leeto\" did not occur in \"leetcode\", so we return -1.\n",
    " \n",
    "\n",
    "Constraints:\n",
    "\n",
    "1 <= haystack.length, needle.length <= 104\n",
    "haystack and needle consist of only lowercase English characters."
   ]
  },
  {
   "cell_type": "markdown",
   "id": "8beaf7b3-6f89-4738-845c-eebb43e88c7d",
   "metadata": {},
   "source": [
    "# Final Solution"
   ]
  },
  {
   "cell_type": "code",
   "execution_count": null,
   "id": "6841cdd2-f7a1-4aa9-bd45-c08c5a285925",
   "metadata": {},
   "outputs": [],
   "source": [
    "class Solution:\n",
    "    def strStr(self, haystack: str, needle: str) -> int:\n",
    "        h_d = len(haystack)\n",
    "        n_d = len(needle)\n",
    "\n",
    "        for i in range(h_d + 1):\n",
    "            if haystack[i:i+n_d] == needle:\n",
    "                return i\n",
    "        return -1"
   ]
  },
  {
   "cell_type": "markdown",
   "id": "eb743fbd-baaa-47ee-9de3-83684211ff23",
   "metadata": {},
   "source": [
    "# Process"
   ]
  },
  {
   "cell_type": "markdown",
   "id": "edbbc2bd-1c06-490a-a748-cbf04c9f0c30",
   "metadata": {},
   "source": [
    "We have 2 words (word1 and word2). We want to see if word2 exists in word1 or if if it is not there at all. \n",
    "In order for word2 to be in word1. Word2 must be smaller than word1. So we will use word1 as our base.\n",
    "\n",
    "word1 = haystack,\n",
    "word2 = needle\n",
    "\n",
    "Step1. Get length of word1\n",
    "\n",
    "Step2. Get length of word2\n",
    "\n",
    "look for word2 in word1 by looking at a window length of word2 and mark if it is found\n",
    "if it is not found retrun value"
   ]
  },
  {
   "cell_type": "markdown",
   "id": "55eb2e42-30fd-4eea-b4c9-93d7a3d0b985",
   "metadata": {},
   "source": [
    "# Testing"
   ]
  },
  {
   "cell_type": "code",
   "execution_count": 3,
   "id": "669abbee-8541-472c-89e3-0c71cf95595c",
   "metadata": {},
   "outputs": [],
   "source": [
    "result1 = []\n",
    "haystack = \"sadbutsad\"\n",
    "needle = \"sad\""
   ]
  },
  {
   "cell_type": "code",
   "execution_count": 5,
   "id": "e5765208-bb73-4d23-b2bc-29cd65975259",
   "metadata": {},
   "outputs": [],
   "source": [
    "h_d = len(haystack)\n",
    "n_d = len(needle)\n",
    "\n",
    "for i in range(h_d + 1):\n",
    "    if haystack[i : i+n_d] == needle:\n",
    "        result1.append(i)"
   ]
  },
  {
   "cell_type": "code",
   "execution_count": null,
   "id": "e26d4d6e-beb3-4635-a240-a71ff7ce090a",
   "metadata": {},
   "outputs": [],
   "source": []
  },
  {
   "cell_type": "code",
   "execution_count": 8,
   "id": "89067923-72fc-4ef7-b2f4-34c414f65672",
   "metadata": {},
   "outputs": [],
   "source": [
    "result2 = []\n",
    "haystack = \"leetcode\"\n",
    "needle = \"leeto\" "
   ]
  },
  {
   "cell_type": "code",
   "execution_count": 10,
   "id": "d62103e1-4f57-4810-bed0-fb279218ead5",
   "metadata": {},
   "outputs": [],
   "source": [
    "h_d = len(haystack)\n",
    "n_d = len(needle)\n",
    "\n",
    "for i in range(h_d + 1):\n",
    "    if haystack[i : i+n_d] == needle:\n",
    "        result2.append(i)"
   ]
  },
  {
   "cell_type": "code",
   "execution_count": null,
   "id": "57628a7f-33ff-4837-be1b-7cd7560620ad",
   "metadata": {},
   "outputs": [],
   "source": []
  },
  {
   "cell_type": "code",
   "execution_count": 13,
   "id": "46b1f4fe-3e17-492f-8434-c34932ab29dd",
   "metadata": {},
   "outputs": [
    {
     "name": "stdout",
     "output_type": "stream",
     "text": [
      "[0, 6] []\n"
     ]
    }
   ],
   "source": [
    "print(result1, result2)"
   ]
  }
 ],
 "metadata": {
  "kernelspec": {
   "display_name": "Python [conda env:base] *",
   "language": "python",
   "name": "conda-base-py"
  },
  "language_info": {
   "codemirror_mode": {
    "name": "ipython",
    "version": 3
   },
   "file_extension": ".py",
   "mimetype": "text/x-python",
   "name": "python",
   "nbconvert_exporter": "python",
   "pygments_lexer": "ipython3",
   "version": "3.12.7"
  }
 },
 "nbformat": 4,
 "nbformat_minor": 5
}
