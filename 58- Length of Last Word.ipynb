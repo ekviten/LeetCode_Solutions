{
 "cells": [
  {
   "cell_type": "markdown",
   "id": "4c2388bc-ddc3-4d4a-9031-28dee82d416b",
   "metadata": {},
   "source": [
    "## 58. Length of Last Word"
   ]
  },
  {
   "cell_type": "markdown",
   "id": "9d851581-f114-4316-93fd-6910bf8ef9af",
   "metadata": {},
   "source": [
    "# Objective"
   ]
  },
  {
   "cell_type": "markdown",
   "id": "61322b6a-bfff-40bf-894a-280a8d93c6e8",
   "metadata": {},
   "source": [
    "Given a string s consisting of words and spaces, return the length of the last word in the string.\n",
    "\n",
    "A word is a maximal substring consisting of non-space characters only.\n",
    "\n",
    " \n",
    "\n",
    "Example 1:\n",
    "\n",
    "Input: s = \"Hello World\"\n",
    "Output: 5\n",
    "Explanation: The last word is \"World\" with length 5.\n",
    "Example 2:\n",
    "\n",
    "Input: s = \"   fly me   to   the moon  \"\n",
    "Output: 4\n",
    "Explanation: The last word is \"moon\" with length 4.\n",
    "Example 3:\n",
    "\n",
    "Input: s = \"luffy is still joyboy\"\n",
    "Output: 6\n",
    "Explanation: The last word is \"joyboy\" with length 6.\n",
    " \n",
    "\n",
    "Constraints:\n",
    "\n",
    "1 <= s.length <= 104\n",
    "s consists of only English letters and spaces ' '.\n",
    "There will be at least one word in s."
   ]
  },
  {
   "cell_type": "markdown",
   "id": "d5a35d03-9675-474a-bf09-b78be199702f",
   "metadata": {},
   "source": [
    "# Final Solution"
   ]
  },
  {
   "cell_type": "code",
   "execution_count": null,
   "id": "8af96aca-d79b-48ef-bd33-b33efc5f653d",
   "metadata": {},
   "outputs": [],
   "source": [
    "class Solution:\n",
    "    def lengthOfLastWord(self, s: str) -> int:\n",
    "        x = s.split()\n",
    "        if len(x) == 0:\n",
    "            return 0\n",
    "        return len(x[-1])"
   ]
  },
  {
   "cell_type": "markdown",
   "id": "e0bc5fe2-9da6-4d85-bcfe-4a9f96628bed",
   "metadata": {},
   "source": [
    "# Process"
   ]
  },
  {
   "cell_type": "markdown",
   "id": "896cd2f4-6de9-4807-a953-121fcdeb5b10",
   "metadata": {},
   "source": [
    "This one is actually super easy and we will be using the built in split function to solve it\n",
    "\n",
    "s is a string that could have spaces anywhere but we are looking for the last word\n",
    "we need to split and remove the white spaces and save this as value x\n",
    "if x has a length of 0 there is nothing there \n",
    "but if x > 0  then return the last value in the list"
   ]
  },
  {
   "cell_type": "markdown",
   "id": "7b75da19-db8d-4d24-94ae-3b3d0f629695",
   "metadata": {},
   "source": [
    "# Testing"
   ]
  },
  {
   "cell_type": "code",
   "execution_count": 52,
   "id": "13223aa7-7c49-4497-83c9-4b00a737eeea",
   "metadata": {},
   "outputs": [],
   "source": [
    "s = \"Hello World\""
   ]
  },
  {
   "cell_type": "code",
   "execution_count": 54,
   "id": "fba1255f-bc9c-46b3-82dd-54e86df203d0",
   "metadata": {},
   "outputs": [
    {
     "data": {
      "text/plain": [
       "['Hello', 'World']"
      ]
     },
     "execution_count": 54,
     "metadata": {},
     "output_type": "execute_result"
    }
   ],
   "source": [
    "s.split()"
   ]
  },
  {
   "cell_type": "code",
   "execution_count": 56,
   "id": "be3a75e4-7326-406d-b292-9fa8112fb9a9",
   "metadata": {},
   "outputs": [
    {
     "data": {
      "text/plain": [
       "5"
      ]
     },
     "execution_count": 56,
     "metadata": {},
     "output_type": "execute_result"
    }
   ],
   "source": [
    "len(s.split()[-1])"
   ]
  },
  {
   "cell_type": "code",
   "execution_count": 58,
   "id": "7f4b26d6-02ca-4719-bb6e-cf02d7fcdf20",
   "metadata": {},
   "outputs": [],
   "source": [
    "s =  \" fly me to the moon \""
   ]
  },
  {
   "cell_type": "code",
   "execution_count": 60,
   "id": "24bca22b-84fc-47a8-8727-9b2afa4d9e64",
   "metadata": {},
   "outputs": [
    {
     "data": {
      "text/plain": [
       "['fly', 'me', 'to', 'the', 'moon']"
      ]
     },
     "execution_count": 60,
     "metadata": {},
     "output_type": "execute_result"
    }
   ],
   "source": [
    "s.split()"
   ]
  },
  {
   "cell_type": "code",
   "execution_count": 62,
   "id": "d13af807-f08a-4708-bf7e-12ba03a96a34",
   "metadata": {},
   "outputs": [
    {
     "data": {
      "text/plain": [
       "4"
      ]
     },
     "execution_count": 62,
     "metadata": {},
     "output_type": "execute_result"
    }
   ],
   "source": [
    "len(s.split()[-1])"
   ]
  },
  {
   "cell_type": "code",
   "execution_count": 64,
   "id": "c7a8a34e-83cb-442a-9d4f-278290cf4823",
   "metadata": {},
   "outputs": [],
   "source": [
    "s = \"luffy is still joyboy\""
   ]
  },
  {
   "cell_type": "code",
   "execution_count": 66,
   "id": "c979edb0-6e79-4893-8c8b-3135edb15690",
   "metadata": {},
   "outputs": [
    {
     "data": {
      "text/plain": [
       "['luffy', 'is', 'still', 'joyboy']"
      ]
     },
     "execution_count": 66,
     "metadata": {},
     "output_type": "execute_result"
    }
   ],
   "source": [
    "s.split()"
   ]
  },
  {
   "cell_type": "code",
   "execution_count": 68,
   "id": "32cedde0-fea1-44e7-97bc-e0da35dd0982",
   "metadata": {},
   "outputs": [
    {
     "data": {
      "text/plain": [
       "6"
      ]
     },
     "execution_count": 68,
     "metadata": {},
     "output_type": "execute_result"
    }
   ],
   "source": [
    "len(s.split()[-1])"
   ]
  },
  {
   "cell_type": "markdown",
   "id": "e4a97406-b139-461b-a177-8a14b7092fa1",
   "metadata": {},
   "source": [
    "# all together"
   ]
  },
  {
   "cell_type": "code",
   "execution_count": 209,
   "id": "8ca10eb1-4ac7-4ca4-866b-491b66c195ee",
   "metadata": {},
   "outputs": [],
   "source": [
    "test = [\"Hello World\", \" fly me to the moon \", \"luffy is still joyboy\"]\n",
    "result_dict = {}"
   ]
  },
  {
   "cell_type": "code",
   "execution_count": 213,
   "id": "2e6aedf5-a62d-4766-bd0e-984a0a05ac7f",
   "metadata": {},
   "outputs": [],
   "source": [
    "for i, word in enumerate(test):\n",
    "    words = word.split()\n",
    "    last_word = words[-1]\n",
    "    last_word_length = len(last_word)\n",
    "\n",
    "    #get examplle number\n",
    "    example_number = i+1\n",
    "    place = f'example {example_number}'\n",
    "\n",
    "    #store in dictonary\n",
    "    result_dict[place] = [last_word, last_word_length]  \n",
    "    "
   ]
  },
  {
   "cell_type": "code",
   "execution_count": 217,
   "id": "bf8b8ab6-1b22-49a8-8021-56a1bb7560b5",
   "metadata": {},
   "outputs": [
    {
     "data": {
      "text/plain": [
       "{'example 1': ['World', 5],\n",
       " 'example 2': ['moon', 4],\n",
       " 'example 3': ['joyboy', 6]}"
      ]
     },
     "execution_count": 217,
     "metadata": {},
     "output_type": "execute_result"
    }
   ],
   "source": [
    "result_dict"
   ]
  },
  {
   "cell_type": "code",
   "execution_count": null,
   "id": "c3b278f2-0b62-48cc-8e57-e6eaba3db99e",
   "metadata": {},
   "outputs": [],
   "source": []
  }
 ],
 "metadata": {
  "kernelspec": {
   "display_name": "Python [conda env:base] *",
   "language": "python",
   "name": "conda-base-py"
  },
  "language_info": {
   "codemirror_mode": {
    "name": "ipython",
    "version": 3
   },
   "file_extension": ".py",
   "mimetype": "text/x-python",
   "name": "python",
   "nbconvert_exporter": "python",
   "pygments_lexer": "ipython3",
   "version": "3.12.7"
  }
 },
 "nbformat": 4,
 "nbformat_minor": 5
}
